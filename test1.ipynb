{
 "cells": [
  {
   "cell_type": "code",
   "execution_count": 3,
   "metadata": {},
   "outputs": [
    {
     "name": "stdout",
     "output_type": "stream",
     "text": [
      "Accuracy: 0.0\n"
     ]
    }
   ],
   "source": [
    "import numpy\n",
    "\n",
    "def test1():\n",
    "    # Load the dataset\n",
    "    X = numpy.array([1, 2, 3, 4, 10])\n",
    "    y = numpy.array([2, 4, 6, 8, 10])\n",
    "    # Split the dataset into training and testing sets\n",
    "    train_size = int(0.8 * len(X))\n",
    "    X_train, X_test, y_train, y_test = X[:train_size], X[train_size:], y[:train_size], y[train_size:]\n",
    "\n",
    "    # Train the model\n",
    "    model = numpy.polyfit(X_train, y_train, 1)\n",
    "\n",
    "    # Make predictions on the testing set\n",
    "    y_pred = numpy.polyval(model, X_test)\n",
    "\n",
    "    # Calculate the accuracy of the model\n",
    "\n",
    "    accuracy = numpy.mean(y_pred == y_test)\n",
    "    print(\"Accuracy:\", accuracy)\n",
    "test1()"
   ]
  },
  {
   "cell_type": "code",
   "execution_count": 3,
   "metadata": {},
   "outputs": [
    {
     "data": {
      "text/plain": [
       "(100.84814663116936, 104.63008605120577, 2637.9375650309667)"
      ]
     },
     "execution_count": 3,
     "metadata": {},
     "output_type": "execute_result"
    },
    {
     "ename": "",
     "evalue": "",
     "output_type": "error",
     "traceback": [
      "\u001b[1;31m在当前单元格或上一个单元格中执行代码时 Kernel 崩溃。\n",
      "\u001b[1;31m请查看单元格中的代码，以确定故障的可能原因。\n",
      "\u001b[1;31m单击<a href='https://aka.ms/vscodeJupyterKernelCrash'>此处</a>了解详细信息。\n",
      "\u001b[1;31m有关更多详细信息，请查看 Jupyter <a href='command:jupyter.viewOutput'>log</a>。"
     ]
    }
   ],
   "source": [
    "import numpy as np\n",
    "from sklearn.linear_model import LinearRegression\n",
    "import matplotlib.pyplot as plt\n",
    "\n",
    "# Data for speed and density\n",
    "speed = np.array([90, 80, 65, 54, 35])  # Speed in km/h\n",
    "density = np.array([7, 27, 38, 50, 65])  # Density in veh/km\n",
    "\n",
    "# Reshape the data for linear regression\n",
    "X = density.reshape(-1, 1)  # Independent variable (density)\n",
    "y = speed  # Dependent variable (speed)\n",
    "\n",
    "# Perform linear regression\n",
    "model = LinearRegression()\n",
    "model.fit(X, y)\n",
    "\n",
    "# Get slope and intercept\n",
    "slope = model.coef_[0]\n",
    "intercept = model.intercept_\n",
    "\n",
    "# Free flow speed (v_f) is the intercept of the line\n",
    "v_f = intercept\n",
    "\n",
    "# Jam density (k_j) is where speed is zero, so solve for k_j: 0 = v_f - (v_f / k_j) * k_j\n",
    "k_j = -intercept / slope\n",
    "\n",
    "# Capacity is given by (v_f * k_j) / 4\n",
    "capacity = (v_f * k_j) / 4\n",
    "\n",
    "# Output results\n",
    "v_f, k_j, capacity\n"
   ]
  }
 ],
 "metadata": {
  "kernelspec": {
   "display_name": "torch15",
   "language": "python",
   "name": "python3"
  },
  "language_info": {
   "codemirror_mode": {
    "name": "ipython",
    "version": 3
   },
   "file_extension": ".py",
   "mimetype": "text/x-python",
   "name": "python",
   "nbconvert_exporter": "python",
   "pygments_lexer": "ipython3",
   "version": "3.10.15"
  }
 },
 "nbformat": 4,
 "nbformat_minor": 2
}
