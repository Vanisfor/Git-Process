{
 "cells": [
  {
   "cell_type": "code",
   "execution_count": 3,
   "metadata": {},
   "outputs": [
    {
     "name": "stdout",
     "output_type": "stream",
     "text": [
      "Accuracy: 0.0\n"
     ]
    }
   ],
   "source": [
    "import numpy\n",
    "\n",
    "def test1():\n",
    "    # Load the dataset\n",
    "    X = numpy.array([1, 2, 3, 4, 10])\n",
    "    y = numpy.array([2, 4, 6, 8, 10])\n",
    "    # Split the dataset into training and testing sets\n",
    "    train_size = int(0.8 * len(X))\n",
    "    X_train, X_test, y_train, y_test = X[:train_size], X[train_size:], y[:train_size], y[train_size:]\n",
    "\n",
    "    # Train the model\n",
    "    model = numpy.polyfit(X_train, y_train, 1)\n",
    "\n",
    "    # Make predictions on the testing set\n",
    "    y_pred = numpy.polyval(model, X_test)\n",
    "\n",
    "    # Calculate the accuracy of the model\n",
    "\n",
    "    accuracy = numpy.mean(y_pred == y_test)\n",
    "    print(\"Accuracy:\", accuracy)\n",
    "test1()"
   ]
  }
 ],
 "metadata": {
  "kernelspec": {
   "display_name": "torch15",
   "language": "python",
   "name": "python3"
  },
  "language_info": {
   "codemirror_mode": {
    "name": "ipython",
    "version": 3
   },
   "file_extension": ".py",
   "mimetype": "text/x-python",
   "name": "python",
   "nbconvert_exporter": "python",
   "pygments_lexer": "ipython3",
   "version": "3.10.15"
  }
 },
 "nbformat": 4,
 "nbformat_minor": 2
}
